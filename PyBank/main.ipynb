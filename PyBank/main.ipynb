{
 "cells": [
  {
   "cell_type": "code",
   "execution_count": 179,
   "id": "cb784108-dd26-4607-88be-fdc06ee1acd6",
   "metadata": {},
   "outputs": [
    {
     "data": {
      "text/plain": [
       "'\\nPyBank homework\\n\\nThis script will read budget CSV file of PyBank, iterate each row of the file to compute the following:\\nThe total number of months included in the dataset.\\nThe net total amount of Profit/Losses over the entire period.\\nThe average of the changes in Profit/Losses over the entire period.\\nThe greatest increase in profits (date and amount) over the entire period.\\nThe greatest decrease in losses (date and amount) over the entire period.\\n\\nFinally the script will print the analysis to the terminal and write the results to a text file\\n\\nFor better modularity the core calculation of metrics are placed inside a function \\nThen the function is called from the main body\\n'"
      ]
     },
     "execution_count": 179,
     "metadata": {},
     "output_type": "execute_result"
    }
   ],
   "source": [
    "\"\"\"\n",
    "PyBank homework\n",
    "\n",
    "This script will read budget CSV file of PyBank, iterate each row of the file to compute the following:\n",
    "The total number of months included in the dataset.\n",
    "The net total amount of Profit/Losses over the entire period.\n",
    "The average of the changes in Profit/Losses over the entire period.\n",
    "The greatest increase in profits (date and amount) over the entire period.\n",
    "The greatest decrease in losses (date and amount) over the entire period.\n",
    "\n",
    "Finally the script will print the analysis to the terminal and write the results to a text file\n",
    "\n",
    "For better modularity the core calculation of metrics are placed inside a function \n",
    "Then the function is called from the main body\n",
    "\"\"\""
   ]
  },
  {
   "cell_type": "code",
   "execution_count": 180,
   "id": "2c62b2ed-7b73-4ad6-8a2a-dccd9c68fe7c",
   "metadata": {},
   "outputs": [],
   "source": [
    "# Following is the function responsible for all core calculation for desired metrics\n",
    "# This function takes a dictionary \"budget_data\" as argument with date and pnl amount as argument and return \n",
    "#   the list of required metrics\n",
    "\n",
    "def calculate_fin_metrics(budget_data):\n",
    "    # Initializations\n",
    "    # we will use the variable \"data_record_count\" to store the total number of rows in the csv file (dataset)\n",
    "    # Each rcord in the dataset represents a month. Hence at the end of file, final value of the vairbale  \n",
    "    # \"data_record_count\" will give us the total number of months included in the \n",
    "    # dataset -> ANSWER TO THE FIRST QUESTION.\n",
    "\n",
    "    # Initialize the variable \"data_record_number\" \n",
    "\n",
    "    data_record_count = 0\n",
    "\n",
    "    # Initiative other metric variables\n",
    "    total_pnl = 0;\n",
    "    avg_change_in_pnl = 0;\n",
    "    greatest_increase_in_profit = 0;\n",
    "    greatest_decrease_in_losses = 0;\n",
    "\n",
    "    # Initiatize other variables to facilitate intermediate computations\n",
    "    previous_pnl_amount = 0\n",
    "    current_pnl_amount = 0\n",
    "    change = 0\n",
    "    total_change = 0\n",
    "\n",
    "    # Following are the processing logic:\n",
    "    # (A) Iterate through each data-row in the dictionary \"budget_data\"\n",
    "    # (B) Retrieve individual pnl amount of individual dictionary row using date as the dictionary-key,\n",
    "    #     convert retrieved pnl amount to integer and add to the \n",
    "    #     variable \"total_pnl\"=> ANSWER TO THE SECOND QUESTION\n",
    "\n",
    "    for date_key in budget_data.keys():\n",
    "        total_pnl = total_pnl + int(budget_data[date_key])\n",
    "\n",
    "        # (C) For change in pnl amount, program has to remember immediate previous pnl amount and \n",
    "        #     subtract from current pnl amount\n",
    "        #     (C.1) for the first row (data_record_count = 0) in the dictionary, \n",
    "        #           only \"current_pnl_amount\" is set to retrived value from dictionary\n",
    "        #           previous_pnl_amount is not applicable for the fist row\n",
    "\n",
    "        if data_record_count == 0:          # for first record\n",
    "            current_pnl_amount = int(budget_data[date_key])\n",
    "\n",
    "        #     (C.2) from second row onward, transfer \"current_pnl-amount\" to \"previous_pnl_amount\" and then\n",
    "        #           \"current_pnl_amount\" will be set to retrieved value from dictionary\n",
    "\n",
    "        else:                                # second record onward\n",
    "            previous_pnl_amount = current_pnl_amount          # transfer current_pnl_amount to previous_pnl_amount \n",
    "            current_pnl_amount = int(budget_data[date_key])   # before it gets overeritten by retrived value\n",
    "            change = current_pnl_amount - previous_pnl_amount # calculate the change at each iteration. \n",
    "                                                              # Calculation of change needs atleast 2 datapoints\n",
    "                                                              # hence change is applicable from 2nd row onward\n",
    "            total_change = total_change + change              # Capture individual change cummilatively \n",
    "                                                              # to total_change variable. \n",
    "                                                              # Dividing total_change by (data_record_count -1) \n",
    "                                                              # will gives us average change \n",
    "                                                              # => ANSWER TO THE THIRD QUESTION\n",
    "                                                              # -1 in (data_record_count - 1) because changes are \n",
    "                                                              # calculated from second row onward\n",
    "\n",
    "        # (D) Following \"if block\" checks if the record for profit, then computes greatest increase in profit \n",
    "        #     similarly \"elif block\" checks if the record for loss and the computes greatest decrease in losses \n",
    "        #     with their respective dates => ANSWER TO THE FOURTH AND FIFTH QUESTIONS\n",
    "\n",
    "            if current_pnl_amount > 0:                           # check for profit\n",
    "                if change > greatest_increase_in_profit:         # greatest_increase_in_profit variable is set to \n",
    "                    greatest_increase_in_profit = change         # the variable change, if change is greater\n",
    "                    greatest_increase_in_profit_date = date_key  # save corresponding date for reporting\n",
    "\n",
    "            elif current_pnl_amount < 0:                         # Check for loss\n",
    "                if change < greatest_decrease_in_losses:         # greatest_decrease_in_losses variable is set to\n",
    "                    greatest_decrease_in_losses = change         # the variable change, if change is lesser\n",
    "                    greatest_decrease_in_losses_date = date_key  # save corresponding date for reporting\n",
    "\n",
    "        # At the end of the processing of the current iteration increment data_record_count by +1\n",
    "\n",
    "        data_record_count = data_record_count + 1\n",
    "\n",
    "        # Control goes back to the for loop to repeat the code block  and this continues till \n",
    "        # end of the dictionary is reached\n",
    "\n",
    "    ############################# OUTSIDE OF FOR LOOP #################################\n",
    "\n",
    "    avg_change_in_pnl = round(total_change / (data_record_count -1),2)\n",
    "    \n",
    "    \n",
    "    # Construct the list of all calculated metrics and the return the list to the caller\n",
    "    \n",
    "    metrics = [data_record_count,total_pnl,avg_change_in_pnl,greatest_increase_in_profit_date,\n",
    "               greatest_increase_in_profit,greatest_decrease_in_losses_date,greatest_decrease_in_losses]\n",
    "    \n",
    "    return metrics\n",
    "    \n",
    "    ############################ END OF FUNCTION ########################################"
   ]
  },
  {
   "cell_type": "code",
   "execution_count": 181,
   "id": "6839f33c-d841-493f-9841-71df8c27968a",
   "metadata": {},
   "outputs": [],
   "source": [
    "################################ BEGINING OF MAIN BODY ###################################\n",
    "\n",
    "# Import the pathlib and CSV library\n",
    "from pathlib import Path \n",
    "import csv"
   ]
  },
  {
   "cell_type": "code",
   "execution_count": 182,
   "id": "d985a85c-97bb-4d85-9ed0-de5a0c68f17b",
   "metadata": {},
   "outputs": [],
   "source": [
    "# Set the file path\n",
    "csvpath = Path(r\"..\\Resources\\budget_data.csv\")"
   ]
  },
  {
   "cell_type": "code",
   "execution_count": 183,
   "id": "e6d1cbe7-6419-4c1a-ac1a-866a822530a1",
   "metadata": {},
   "outputs": [],
   "source": [
    "# Each record in the dataset consists of two datapoints (1) Data and (2) profit/Loss\n",
    "# We will hold these two data points in dictionary data structure\n",
    "# Each row in the budget dataset will be stored as separate data rows in the dictionary\n",
    "# Initiatize a blank dictionary budget_data which will be populated as we iterate through the budget dataset\n",
    "\n",
    "dataset_dict = {}"
   ]
  },
  {
   "cell_type": "code",
   "execution_count": 184,
   "id": "0f44f3b9-c402-4332-828a-eddeab0e9d5d",
   "metadata": {},
   "outputs": [],
   "source": [
    "# Open the input path as a file object with 'r' (read) mode to enable us reading through the records in the dataset\n",
    "\n",
    "with open(csvpath, 'r') as csvfile:\n",
    "    \n",
    "    # Pass in the csv file object to the csv.reader() function\n",
    "    # with \",\" as the delimiter and return the csvreader object\n",
    "    \n",
    "    csvreader = csv.reader(csvfile, delimiter=',')\n",
    "    \n",
    "    # Skip the header\n",
    "    next(csvreader)\n",
    "        \n",
    "    # Read each row of budget dataset after the header and insert individual records into budget_data dictionary\n",
    "    dataset_dict = {each_row[0]:each_row[1] for each_row in csvreader}"
   ]
  },
  {
   "cell_type": "code",
   "execution_count": 185,
   "id": "df3f6a66-4919-45d5-92bb-031837fd56e8",
   "metadata": {},
   "outputs": [],
   "source": [
    "# Call the function with dataset_dict and catch the returned list of metrics into the variable fin_metrics\n",
    "fin_metrics = calculate_fin_metrics(dataset_dict)"
   ]
  },
  {
   "cell_type": "code",
   "execution_count": 186,
   "id": "aa89a54f-a62c-474b-9a18-2403e77818bf",
   "metadata": {},
   "outputs": [
    {
     "name": "stdout",
     "output_type": "stream",
     "text": [
      "F I N A N C I A L   A N A L Y S I S\n",
      "------------------------------------\n",
      "Total Months: 86\n",
      "Total: $38382578\n",
      "Average Change: $-2315.12\n",
      "Greatest Increase in Profits: Feb-2012 ($1926159)\n",
      "Greatest Decrease in Losses:  Sep-2013 ($-2196167)\n",
      "\n"
     ]
    }
   ],
   "source": [
    "############################# FINAL REPORTING  #################################\n",
    "text1 = f\"F I N A N C I A L   A N A L Y S I S\" + \"\\n\"\n",
    "text2 = f\"------------------------------------\" + \"\\n\"\n",
    "text3 = f\"Total Months: {fin_metrics[0]}\" +\"\\n\"\n",
    "text4 = f\"Total: ${fin_metrics[1]}\" + \"\\n\"\n",
    "text5 = f\"Average Change: ${fin_metrics[2]}\" + \"\\n\"\n",
    "text6 = f\"Greatest Increase in Profits: {fin_metrics[3]} (${fin_metrics[4]})\" + \"\\n\"\n",
    "text7 = f\"Greatest Decrease in Losses:  {fin_metrics[5]} (${fin_metrics[6]})\"  + \"\\n\"\n",
    "\n",
    "consolidated_text = text1 + text2 + text3 + text4 + text5 + text6 + text7\n",
    "print(consolidated_text)"
   ]
  },
  {
   "cell_type": "code",
   "execution_count": 187,
   "id": "8547ebdf-34e2-4d6d-83e8-8bb8e59455f2",
   "metadata": {},
   "outputs": [],
   "source": [
    "# Code to write the above output to a text file\n",
    "\n",
    "# Set the output file path\n",
    "output_path = Path(\"output.txt\")\n",
    "\n",
    "# Open the output_path as a file object in \"write\" mode ('w')\n",
    "# Write a header line and all required metrics already packaged in the variable consolidated_text \n",
    "with open(output_path, 'w') as file:\n",
    "    file.write(consolidated_text) "
   ]
  },
  {
   "cell_type": "code",
   "execution_count": null,
   "id": "c50f23b1-0d86-494f-96dc-1c60ca0e8f7d",
   "metadata": {},
   "outputs": [],
   "source": []
  }
 ],
 "metadata": {
  "kernelspec": {
   "display_name": "Python 3",
   "language": "python",
   "name": "python3"
  },
  "language_info": {
   "codemirror_mode": {
    "name": "ipython",
    "version": 3
   },
   "file_extension": ".py",
   "mimetype": "text/x-python",
   "name": "python",
   "nbconvert_exporter": "python",
   "pygments_lexer": "ipython3",
   "version": "3.8.5"
  }
 },
 "nbformat": 4,
 "nbformat_minor": 5
}
