{
 "cells": [
  {
   "cell_type": "markdown",
   "id": "d0f889c4-6aad-44e6-bd06-e275943c7689",
   "metadata": {},
   "source": [
    "## PyBank homework\n",
    "\n",
    "This script will read budget CSV file of PyBank, iterate each row of the file to compute the following: <br>\n",
    "The total number of months included in the dataset. <br>\n",
    "(1) The net total amount of Profit/Losses over the entire period. <br>\n",
    "(2) The average of the changes in Profit/Losses over the entire period. <br>\n",
    "(3) The greatest increase in profits (date and amount) over the entire period. <br>\n",
    "(4) The greatest decrease in losses (date and amount) over the entire period. <br>\n",
    "\n",
    "Finally the script will print the analysis to the terminal and write the results to a text file\n",
    "\n",
    "For better **modularity, reusability, readibility and maintainability**, the core business logic for the calculation of metrics are placed inside a function called *\"calculate_fin_metrics()\"*, which is defined in a *separate module (.py file)*. \n",
    "\n",
    "Then the module is imported in the main.ipynb file and the function is called from the main body"
   ]
  },
  {
   "cell_type": "markdown",
   "id": "8713e27c-3693-41d1-999c-411b70df9c5b",
   "metadata": {},
   "source": [
    "### Begining of main body"
   ]
  },
  {
   "cell_type": "markdown",
   "id": "22bbbb7f-aa4f-46df-8cdf-9ef24cb35a00",
   "metadata": {},
   "source": [
    "### Import required libraries and function"
   ]
  },
  {
   "cell_type": "code",
   "execution_count": 10,
   "id": "a2207694-1b22-4b21-882f-b68f1f7c51c5",
   "metadata": {},
   "outputs": [],
   "source": [
    "# Import the pathlib, CSV library and the newly defined function \"calculate_fin_metrics()\" which is defined\n",
    "# in the module named fin_module \n",
    "\n",
    "from pathlib import Path \n",
    "import csv\n",
    "from fin_module import calculate_fin_metrics"
   ]
  },
  {
   "cell_type": "markdown",
   "id": "0d20fa0c-db91-4bb3-9b69-583cb03789dd",
   "metadata": {},
   "source": [
    "### Set the path to the csv file"
   ]
  },
  {
   "cell_type": "code",
   "execution_count": 11,
   "id": "d985a85c-97bb-4d85-9ed0-de5a0c68f17b",
   "metadata": {},
   "outputs": [],
   "source": [
    "# Set the file path to point to the budget data file\n",
    "csvpath = Path(r\"..\\Resources\\budget_data.csv\")"
   ]
  },
  {
   "cell_type": "markdown",
   "id": "2a631433-aaf4-43e6-aa3f-f8c6937b0413",
   "metadata": {},
   "source": [
    "### Initialize dictionary to store records in the csv file for further processing"
   ]
  },
  {
   "cell_type": "code",
   "execution_count": 12,
   "id": "e6d1cbe7-6419-4c1a-ac1a-866a822530a1",
   "metadata": {},
   "outputs": [],
   "source": [
    "# Each record in the dataset consists of two datapoints (1) Data and (2) profit/Loss\n",
    "# We will hold these two data points in dictionary data structure\n",
    "# Each row in the budget dataset will be stored as separate data rows in the dictionary\n",
    "# Initiatize a blank dictionary budget_data which will be populated as we iterate through the budget dataset\n",
    "\n",
    "budget_data_in_dict = {}"
   ]
  },
  {
   "cell_type": "markdown",
   "id": "74ebf158-e082-4dcc-b872-92b4169b9edf",
   "metadata": {},
   "source": [
    "### Open the csv file, read each row and store into the dictionary"
   ]
  },
  {
   "cell_type": "code",
   "execution_count": 13,
   "id": "0f44f3b9-c402-4332-828a-eddeab0e9d5d",
   "metadata": {},
   "outputs": [],
   "source": [
    "# Open the input dataset budget_data.csv as set in csvpath variable, as a file object with 'r' (read) mode \n",
    "# to enable us reading through the records in the dataset\n",
    "\n",
    "with open(csvpath, 'r') as csvfile:\n",
    "    \n",
    "    # Pass in the csv file object to the csv.reader() function\n",
    "    # with \",\" as the delimiter and return the csvreader object\n",
    "    \n",
    "    csvreader = csv.reader(csvfile, delimiter=',')\n",
    "    \n",
    "    # Skip the header\n",
    "    next(csvreader)\n",
    "        \n",
    "    # Read each row of budget dataset after the header and insert individual records into budget_data dictionary\n",
    "    budget_data_in_dict = {each_row[0]:each_row[1] for each_row in csvreader}"
   ]
  },
  {
   "cell_type": "markdown",
   "id": "4524db05-498c-4736-896c-a8e2be143239",
   "metadata": {},
   "source": [
    "### Call the purpose-built function calculate_fin_metrics() for core calculations"
   ]
  },
  {
   "cell_type": "code",
   "execution_count": 14,
   "id": "df3f6a66-4919-45d5-92bb-031837fd56e8",
   "metadata": {},
   "outputs": [],
   "source": [
    "# Call the function with dataset_dict and catch the returned list of metrics into the variable fin_metrics\n",
    "fin_metrics = calculate_fin_metrics(budget_data_in_dict)"
   ]
  },
  {
   "cell_type": "markdown",
   "id": "59ee17df-8ead-425f-b838-a1d1c404a01e",
   "metadata": {},
   "source": [
    "### Final reporting of results"
   ]
  },
  {
   "cell_type": "code",
   "execution_count": 15,
   "id": "aa89a54f-a62c-474b-9a18-2403e77818bf",
   "metadata": {},
   "outputs": [
    {
     "name": "stdout",
     "output_type": "stream",
     "text": [
      "F I N A N C I A L   A N A L Y S I S\n",
      "------------------------------------\n",
      "Total Months: 86\n",
      "Total: $38382578\n",
      "Average Change: $-2315.12\n",
      "Greatest Increase in Profits: Feb-2012 ($1926159)\n",
      "Greatest Decrease in Losses:  Sep-2013 ($-2196167)\n",
      "\n"
     ]
    }
   ],
   "source": [
    "text1 = f\"F I N A N C I A L   A N A L Y S I S\" + \"\\n\"\n",
    "text2 = f\"------------------------------------\" + \"\\n\"\n",
    "text3 = f\"Total Months: {fin_metrics[0]}\" +\"\\n\"\n",
    "text4 = f\"Total: ${fin_metrics[1]}\" + \"\\n\"\n",
    "text5 = f\"Average Change: ${fin_metrics[2]}\" + \"\\n\"\n",
    "text6 = f\"Greatest Increase in Profits: {fin_metrics[3]} (${fin_metrics[4]})\" + \"\\n\"\n",
    "text7 = f\"Greatest Decrease in Losses:  {fin_metrics[5]} (${fin_metrics[6]})\"  + \"\\n\"\n",
    "\n",
    "consolidated_text = text1 + text2 + text3 + text4 + text5 + text6 + text7\n",
    "print(consolidated_text)"
   ]
  },
  {
   "cell_type": "markdown",
   "id": "0fd96b3b-e0ce-4641-86ae-04f70c847c56",
   "metadata": {},
   "source": [
    "### Write the result into a text file, stored in the same directory as this script"
   ]
  },
  {
   "cell_type": "code",
   "execution_count": 16,
   "id": "8547ebdf-34e2-4d6d-83e8-8bb8e59455f2",
   "metadata": {},
   "outputs": [],
   "source": [
    "# Code to write the above output to a text file\n",
    "\n",
    "# Set the output file path\n",
    "output_path = Path(\"output.txt\")\n",
    "\n",
    "# Open the output_path as a file object in \"write\" mode ('w')\n",
    "# Write a header line and all required metrics already packaged in the variable consolidated_text \n",
    "with open(output_path, 'w') as file:\n",
    "    file.write(consolidated_text) "
   ]
  },
  {
   "cell_type": "markdown",
   "id": "ce40c848-12d9-4a09-bf58-5e3e142c1c5d",
   "metadata": {},
   "source": [
    "## End of main body"
   ]
  }
 ],
 "metadata": {
  "kernelspec": {
   "display_name": "Python 3",
   "language": "python",
   "name": "python3"
  },
  "language_info": {
   "codemirror_mode": {
    "name": "ipython",
    "version": 3
   },
   "file_extension": ".py",
   "mimetype": "text/x-python",
   "name": "python",
   "nbconvert_exporter": "python",
   "pygments_lexer": "ipython3",
   "version": "3.8.5"
  }
 },
 "nbformat": 4,
 "nbformat_minor": 5
}
